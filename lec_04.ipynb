{
 "cells": [
  {
   "cell_type": "markdown",
   "metadata": {},
   "source": [
    "# Работа с базами данных в python\n",
    "[Руководство и ссылки](https://habr.com/ru/post/321510/)\n",
    "\n",
    "[6 нормальных форм СУБД](https://habr.com/ru/post/254773/#:~:text=%D0%A8%D0%B5%D1%81%D1%82%D1%8C%20%D0%BD%D0%BE%D1%80%D0%BC%D0%B0%D0%BB%D1%8C%D0%BD%D1%8B%D1%85%20%D1%84%D0%BE%D1%80%D0%BC,-MySQL%2C&text=%D0%92%20%D0%B4%D0%B0%D0%BD%D0%BD%D0%BE%D0%B9%20%D1%82%D0%B5%D0%BC%D0%B5%20%D1%8F%20%D0%B7%D0%B0%D1%82%D1%80%D0%BE%D0%BD%D1%83,%D0%B2%D1%8B%D1%81%D0%BE%D0%BA%D0%BE%D0%B3%D0%BE%20%D0%BF%D0%BE%D1%80%D1%8F%D0%B4%D0%BA%D0%B0%20%D0%BF%D0%BE%20%D0%BE%D0%BF%D1%80%D0%B5%D0%B4%D0%B5%D0%BB%D0%B5%D0%BD%D0%BD%D1%8B%D0%BC%20%D0%BF%D1%80%D0%B0%D0%B2%D0%B8%D0%BB%D0%B0%D0%BC.)\n",
    "\n",
    "[Краткое руководство по проектированию СУБД в 15 частях](https://habr.com/ru/post/193136/)"
   ]
  },
  {
   "cell_type": "markdown",
   "metadata": {},
   "source": [
    "![DB Scheme](db_scheme.png)\n",
    "\n",
    "В данной лкции будет использоваться открытая (MIT лицензия) тестовая база данных “Chinook”. Скачать ее можно с [репозитория](github.com/lerocha/chinook-database)\n",
    "\n",
    "Нужен для работы только бинарный файл [Chinook_Sqlite.sqlite](github.com/lerocha/chinook-database/blob/master/ChinookDatabase/DataSources/Chinook_Sqlite.sqlite):\n",
    "\n",
    "\n",
    "Для удобства работы с базой (просмотр, редактирование) нам нужна программа браузер баз данных, поддерживающая SQLite, например, [DB Browser](https://sqlitebrowser.org/) "
   ]
  },
  {
   "cell_type": "code",
   "execution_count": 1,
   "metadata": {
    "collapsed": true
   },
   "outputs": [],
   "source": [
    "# Импортируем библиотеку, соответствующую типу нашей базы данных \n",
    "import sqlite3\n",
    "\n",
    "# Создаем соединение с нашей базой данных\n",
    "# В нашем примере у нас это просто файл базы\n",
    "conn = sqlite3.connect('Chinook_Sqlite.sqlite')\n",
    "\n",
    "# Создаем курсор - это специальный объект который делает запросы и получает их результаты\n",
    "cursor = conn.cursor()\n",
    "\n",
    "# Не забываем закрыть соединение с базой данных\n",
    "conn.close()"
   ]
  },
  {
   "cell_type": "code",
   "execution_count": 2,
   "metadata": {
    "collapsed": true
   },
   "outputs": [],
   "source": [
    "# Создаем соединение с нашей базой данных\n",
    "# В нашем примере у нас это просто файл базы\n",
    "conn = sqlite3.connect('Chinook_Sqlite.sqlite')\n",
    "\n",
    "# Создаем курсор - это специальный объект который делает запросы и получает их результаты\n",
    "cursor = conn.cursor()"
   ]
  },
  {
   "cell_type": "code",
   "execution_count": 3,
   "metadata": {},
   "outputs": [
    {
     "name": "stdout",
     "output_type": "stream",
     "text": [
      "[('A Cor Do Som',), ('AC/DC',), ('Aaron Copland & London Symphony Orchestra',)]\n",
      "[]\n"
     ]
    }
   ],
   "source": [
    "# Делаем SELECT запрос к базе данных, используя обычный SQL-синтаксис\n",
    "cursor.execute(\"SELECT Name FROM Artist ORDER BY Name LIMIT 3\")\n",
    "\n",
    "# Получаем результат сделанного запроса\n",
    "results = cursor.fetchall()\n",
    "results2 =  cursor.fetchall()\n",
    "\n",
    "print(results)   # [('A Cor Do Som',), ('Aaron Copland & London Symphony Orchestra',), ('Aaron Goldberg',)]\n",
    "print(results2)  # []"
   ]
  },
  {
   "cell_type": "code",
   "execution_count": 4,
   "metadata": {},
   "outputs": [
    {
     "name": "stdout",
     "output_type": "stream",
     "text": [
      "[('A Aagrh!',), ('A Cor Do Som',), ('AC/DC',)]\n"
     ]
    }
   ],
   "source": [
    "# Делаем INSERT запрос к базе данных, используя обычный SQL-синтаксис\n",
    "cursor.execute(\"insert into Artist values (Null, 'A Aagrh!') \")\n",
    "\n",
    "# Если мы не просто читаем, но и вносим изменения в базу данных - необходимо сохранить транзакцию\n",
    "conn.commit()\n",
    "\n",
    "# Проверяем результат\n",
    "cursor.execute(\"SELECT Name FROM Artist ORDER BY Name LIMIT 3\")\n",
    "results = cursor.fetchall()\n",
    "print(results)  # [('A Aagrh!',), ('A Cor Do Som',), ('Aaron Copland & London Symphony Orchestra',)]"
   ]
  },
  {
   "cell_type": "code",
   "execution_count": 5,
   "metadata": {},
   "outputs": [
    {
     "name": "stdout",
     "output_type": "stream",
     "text": [
      "[('A Aagrh!',), ('A Cor Do Som',), ('AC/DC',)]\n"
     ]
    }
   ],
   "source": [
    "cursor.execute(\"\"\"\n",
    "  SELECT Name\n",
    "  FROM Artist\n",
    "  ORDER BY Name LIMIT 3\n",
    "\"\"\")\n",
    "results = cursor.fetchall()\n",
    "print(results)"
   ]
  },
  {
   "cell_type": "code",
   "execution_count": 6,
   "metadata": {
    "collapsed": true
   },
   "outputs": [],
   "source": [
    "def print_last(num = 3):\n",
    "    cursor.execute(\"SELECT Name FROM Artist ORDER BY Name LIMIT \" + str(num))\n",
    "    print(cursor.fetchall())\n"
   ]
  },
  {
   "cell_type": "code",
   "execution_count": 11,
   "metadata": {},
   "outputs": [
    {
     "name": "stdout",
     "output_type": "stream",
     "text": [
      "[('A Aagrh!',), ('A Aagrh!',), ('A Aagrh!',), ('A Aagrh!',), ('A Aagrh-2!',), ('A Aagrh-2!',), ('A Cor Do Som',), ('AC/DC',), ('Aaron Copland & London Symphony Orchestra',), ('Aaron Goldberg',)]\n"
     ]
    }
   ],
   "source": [
    "#cursor.execute(\"\"\"insert into Artist values (Null, 'A Aagrh!');\"\"\")\n",
    "#cursor.execute(\"\"\"insert into Artist values (Null, 'A Aagrh-2!');\"\"\")\n",
    "\n",
    "cursor.executescript(\"\"\"\n",
    " insert into Artist values (Null, 'A Aagrh!');\n",
    " insert into Artist values (Null, 'A Aagrh-2!');\n",
    "\"\"\")\n",
    "print_last(10)"
   ]
  },
  {
   "cell_type": "code",
   "execution_count": 13,
   "metadata": {},
   "outputs": [
    {
     "name": "stdout",
     "output_type": "stream",
     "text": [
      "[('A Aagrh!',), ('A Aagrh!',)]\n",
      "[('A Aagrh!',), ('A Aagrh!',), ('A Aagrh!',)]\n"
     ]
    }
   ],
   "source": [
    "cursor.execute(\"SELECT Name FROM Artist ORDER BY Name LIMIT ?\", ('2'))\n",
    "print(cursor.fetchall())\n",
    "\n",
    "# И с использованием именнованных замен:\n",
    "cursor.execute(\"SELECT Name from Artist ORDER BY Name LIMIT :limit\", {\"limit\": 3})\n",
    "# В PostgreSQL (UPD: и в MySQL) вместо знака '?' для подстановки используется: %s\n",
    "print(cursor.fetchall())\n"
   ]
  },
  {
   "cell_type": "code",
   "execution_count": 14,
   "metadata": {},
   "outputs": [
    {
     "name": "stdout",
     "output_type": "stream",
     "text": [
      "[('A Aagrh!',), ('A Aagrh!',), ('A Aagrh!',), ('A Aagrh!',), ('A Aagrh!',), ('A Aagrh!-2',), ('A Aagrh!-3',), ('A Aagrh-2!',), ('A Aagrh-2!',), ('A Cor Do Som',)]\n"
     ]
    }
   ],
   "source": [
    "# Обратите внимание, даже передавая одно значение - его нужно передавать кортежем!\n",
    "# Именно по этому тут используется запятая в скобках!\n",
    "new_artists = [\n",
    "    ('A Aagrh!',),\n",
    "    ('A Aagrh!-2',),\n",
    "    ('A Aagrh!-3',),\n",
    "]\n",
    "cursor.executemany(\"insert into Artist values (Null, ?);\", new_artists)\n",
    "\n",
    "print_last(10)"
   ]
  },
  {
   "cell_type": "code",
   "execution_count": 15,
   "metadata": {},
   "outputs": [
    {
     "name": "stdout",
     "output_type": "stream",
     "text": [
      "[('A Aagrh!',), ('A Aagrh!',), ('A Aagrh!',), ('A Aagrh!',), ('A Aagrh!',), ('A Aagrh!-2',), ('A Aagrh!-3',), ('A Aagrh-2!',), ('A Aagrh-2!',), ('A Cor Do Som',), ('AC/DC',), ('Aaron Copland & London Symphony Orchestra',), ('Aaron Goldberg',), ('Academy of St. Martin in the Fields & Sir Neville Marriner',), ('Academy of St. Martin in the Fields Chamber Ensemble & Sir Neville Marriner',), ('Academy of St. Martin in the Fields, John Birch, Sir Neville Marriner & Sylvia McNair',), ('Academy of St. Martin in the Fields, Sir Neville Marriner & Thurston Dart',), ('Academy of St. Martin in the Fields, Sir Neville Marriner & William Bennett',), ('Accept',), ('Adrian Leaper & Doreen de Feis',), ('Aerosmith',), (\"Aerosmith & Sierra Leone's Refugee Allstars\",), ('Aisha Duo',), ('Alanis Morissette',), ('Alberto Turco & Nova Schola Gregoriana',), ('Alice In Chains',), ('Amy Winehouse',), ('Anne-Sophie Mutter, Herbert Von Karajan & Wiener Philharmoniker',), ('Antal Doráti & London Symphony Orchestra',), ('Antônio Carlos Jobim',)]\n"
     ]
    }
   ],
   "source": [
    "print_last(30)"
   ]
  },
  {
   "cell_type": "code",
   "execution_count": 32,
   "metadata": {},
   "outputs": [
    {
     "name": "stdout",
     "output_type": "stream",
     "text": [
      "276 A Aagrh!\n",
      "277 A Aagrh!\n",
      "278 A Aagrh!\n",
      "280 A Aagrh!\n",
      "282 A Aagrh!\n",
      "283 A Aagrh!-2\n",
      "284 A Aagrh!-3\n",
      "279 A Aagrh-2!\n",
      "281 A Aagrh-2!\n",
      "43 A Cor Do Som\n",
      "1 AC/DC\n",
      "230 Aaron Copland & London Symphony Orchestra\n",
      "202 Aaron Goldberg\n",
      "214 Academy of St. Martin in the Fields & Sir Neville Marriner\n",
      "215 Academy of St. Martin in the Fields Chamber Ensemble & Sir Neville Marriner\n",
      "222 Academy of St. Martin in the Fields, John Birch, Sir Neville Marriner & Sylvia McNair\n",
      "257 Academy of St. Martin in the Fields, Sir Neville Marriner & Thurston Dart\n",
      "239 Academy of St. Martin in the Fields, Sir Neville Marriner & William Bennett\n",
      "2 Accept\n",
      "260 Adrian Leaper & Doreen de Feis\n",
      "3 Aerosmith\n",
      "161 Aerosmith & Sierra Leone's Refugee Allstars\n",
      "197 Aisha Duo\n",
      "4 Alanis Morissette\n",
      "206 Alberto Turco & Nova Schola Gregoriana\n",
      "5 Alice In Chains\n",
      "252 Amy Winehouse\n",
      "209 Anne-Sophie Mutter, Herbert Von Karajan & Wiener Philharmoniker\n",
      "243 Antal Doráti & London Symphony Orchestra\n",
      "6 Antônio Carlos Jobim\n"
     ]
    }
   ],
   "source": [
    "cursor.execute(\"SELECT * FROM Artist ORDER BY Name LIMIT 30\")\n",
    "row = cursor.fetchone()\n",
    "while not row == None:\n",
    "    print(row[0], row[1])\n",
    "    \n",
    "    row = cursor.fetchone()\n",
    "#print(cursor.fetchone())    # ('A Cor Do Som',)\n",
    "#print(cursor.fetchone())    # ('Aaron Copland & London Symphony Orchestra',)\n",
    "#print(cursor.fetchone())    # ('Aaron Goldberg',)\n",
    "#print(cursor.fetchone())    # None"
   ]
  },
  {
   "cell_type": "code",
   "execution_count": 19,
   "metadata": {},
   "outputs": [
    {
     "name": "stdout",
     "output_type": "stream",
     "text": [
      "('A Aagrh!',)\n",
      "('A Aagrh!',)\n",
      "('A Aagrh!',)\n"
     ]
    }
   ],
   "source": [
    "for row in cursor.execute('SELECT Name from Artist ORDER BY Name LIMIT 3'):\n",
    "    print(row)"
   ]
  },
  {
   "cell_type": "code",
   "execution_count": 22,
   "metadata": {},
   "outputs": [
    {
     "name": "stdout",
     "output_type": "stream",
     "text": [
      "[(276, 'A Aagrh!'), (277, 'A Aagrh!'), (278, 'A Aagrh!'), (280, 'A Aagrh!'), (282, 'A Aagrh!'), (283, 'A Aagrh!-2'), (284, 'A Aagrh!-3')]\n"
     ]
    }
   ],
   "source": [
    "sql_statement = \"select * from Artist where name like 'A Aagrh!%'\"\n",
    "try:\n",
    "    cursor.execute(sql_statement)\n",
    "    result = cursor.fetchall()\n",
    "    print(result)\n",
    "except sqlite3.DatabaseError as err:       \n",
    "    print(\"Error: \", err)\n",
    "else:\n",
    "    conn.commit()"
   ]
  },
  {
   "cell_type": "code",
   "execution_count": null,
   "metadata": {
    "collapsed": true
   },
   "outputs": [],
   "source": [
    "# для postgres\n",
    "# with psycopg2.connect(\"dbname='habr'\") as conn:\n",
    "#   with conn.cursor() as cur:"
   ]
  },
  {
   "cell_type": "code",
   "execution_count": 23,
   "metadata": {
    "collapsed": true
   },
   "outputs": [],
   "source": [
    "# В самом конце \n",
    "conn.close()"
   ]
  },
  {
   "cell_type": "code",
   "execution_count": 35,
   "metadata": {},
   "outputs": [
    {
     "name": "stdout",
     "output_type": "stream",
     "text": [
      "A Aagrh! 276\n",
      "A Aagrh! 277\n",
      "A Aagrh! 278\n",
      "A Aagrh! 280\n",
      "A Aagrh! 282\n",
      "A Aagrh!-2 283\n",
      "A Aagrh!-3 284\n"
     ]
    }
   ],
   "source": [
    "import sqlite3\n",
    "def dict_factory(cursor, row):\n",
    "    d = {}\n",
    "    for idx, col in enumerate(cursor.description):\n",
    "        d[col[0]] = row[idx]\n",
    "    return d\n",
    "\n",
    "con = sqlite3.connect(\"Chinook_Sqlite.sqlite\")\n",
    "#cursor = con.cursor()\n",
    "con.row_factory = dict_factory\n",
    "cur = con.cursor()\n",
    "cur.execute(\"select * from Artist where Name like 'A Aagrh!%'\")\n",
    "for row in cur.fetchall():\n",
    "    print(row[\"Name\"], row[\"ArtistId\"])\n",
    "con.close()"
   ]
  },
  {
   "cell_type": "code",
   "execution_count": 38,
   "metadata": {},
   "outputs": [
    {
     "name": "stdout",
     "output_type": "stream",
     "text": [
      "[]\n",
      "[('A Cor Do Som',), ('AC/DC',), ('Aaron Copland & London Symphony Orchestra',), ('Aaron Goldberg',), ('Academy of St. Martin in the Fields & Sir Neville Marriner',), ('Academy of St. Martin in the Fields Chamber Ensemble & Sir Neville Marriner',), ('Academy of St. Martin in the Fields, John Birch, Sir Neville Marriner & Sylvia McNair',), ('Academy of St. Martin in the Fields, Sir Neville Marriner & Thurston Dart',), ('Academy of St. Martin in the Fields, Sir Neville Marriner & William Bennett',), ('Accept',), ('Adrian Leaper & Doreen de Feis',), ('Aerosmith',), (\"Aerosmith & Sierra Leone's Refugee Allstars\",), ('Aisha Duo',), ('Alanis Morissette',), ('Alberto Turco & Nova Schola Gregoriana',), ('Alice In Chains',), ('Amy Winehouse',), ('Anne-Sophie Mutter, Herbert Von Karajan & Wiener Philharmoniker',), ('Antal Doráti & London Symphony Orchestra',), ('Antônio Carlos Jobim',), ('Apocalyptica',), ('Aquaman',), ('Audioslave',), ('Avril Lavigne',), ('Azymuth',), ('Baby Consuelo',), ('BackBeat',), ('Banda Black Rio',), ('Barry Wordsworth & BBC Concert Orchestra',)]\n"
     ]
    }
   ],
   "source": [
    "import sqlite3\n",
    "\n",
    "conn = sqlite3.connect(\"Chinook_Sqlite.sqlite\")\n",
    "cursor = conn.cursor()\n",
    "\n",
    "try:\n",
    "    sql_statement = \"delete from Artist where name like 'A Aagrh%'\"\n",
    "    cursor.execute(sql_statement)\n",
    "    result = cursor.fetchall()\n",
    "    print(result)\n",
    "    print_last(30)\n",
    "except sqlite3.DatabaseError as err:       \n",
    "    print(\"Error: \", err)\n",
    "else:\n",
    "    conn.commit()\n",
    "    conn.close()"
   ]
  },
  {
   "cell_type": "markdown",
   "metadata": {},
   "source": [
    "# DB ORM\n",
    "![ORM](orm_scheme.jpeg)\n",
    "\n",
    "\n",
    "[ORM python](https://habr.com/ru/post/322086/)\n",
    "\n",
    "\n",
    "Существуют два основных подхода к реализации ORM:\n",
    "Active Record – более простой для понимания и реализации подход, суть которого сводится к отображению объекта данных на строку базы данных.\n",
    "Data Mapper – в отличии от предыдущего подхода полностью разделяет представление данных в программе от его представления в базе данных."
   ]
  },
  {
   "cell_type": "code",
   "execution_count": 39,
   "metadata": {},
   "outputs": [
    {
     "name": "stdout",
     "output_type": "stream",
     "text": [
      "[('A Cor Do Som',), ('AC/DC',), ('Aaron Copland & London Symphony Orchestra',)]\n"
     ]
    },
    {
     "data": {
      "text/plain": [
       "True"
      ]
     },
     "execution_count": 39,
     "metadata": {},
     "output_type": "execute_result"
    }
   ],
   "source": [
    "# Импортируем библиотеку, соответствующую типу нашей базы данных \n",
    "# В данном случае импортируем все ее содержимое, чтобы при обращении не писать каждый раз имя библиотеки, как мы делали в первой статье\n",
    "from peewee import *\n",
    "\n",
    "# Создаем соединение с нашей базой данных\n",
    "# В нашем примере у нас это просто файл базы\n",
    "conn = SqliteDatabase('Chinook_Sqlite.sqlite')\n",
    "\n",
    "# ТУТ БУДЕТ КОД НАШИХ МОДЕЛЕЙ\n",
    "\n",
    "# Создаем курсор - специальный объект для запросов и получения данных с базы\n",
    "cursor = conn.cursor()\n",
    "\n",
    "# Делаем SELECT запрос к базе данных, используя обычный SQL-синтаксис\n",
    "cursor.execute(\"SELECT Name FROM Artist ORDER BY Name LIMIT 3\")\n",
    "\n",
    "# Получаем результат сделанного запроса\n",
    "results = cursor.fetchall()\n",
    "print(results)\n",
    "\n",
    "# Не забываем закрыть соединение с базой данных\n",
    "conn.close()"
   ]
  },
  {
   "cell_type": "code",
   "execution_count": 40,
   "metadata": {
    "collapsed": true
   },
   "outputs": [],
   "source": [
    "# Импортируем нашу ORM библиотеку\n",
    "from peewee import *\n",
    "\n",
    "# Создаем соединение с нашей базой данных\n",
    "conn = SqliteDatabase('Chinook_Sqlite.sqlite')\n",
    "\n",
    "\n"
   ]
  },
  {
   "cell_type": "code",
   "execution_count": 41,
   "metadata": {
    "collapsed": true
   },
   "outputs": [],
   "source": [
    "################ 3, ОПРЕДЕЛЯЕМ МОДЕЛИ ######################\n",
    "\n",
    "# Определяем базовую модель о которой будут наследоваться остальные\n",
    "class BaseModel(Model):\n",
    "    class Meta:\n",
    "        database = conn\n",
    "\n",
    "\n",
    "# Определяем модель исполнителя\n",
    "class Artist(BaseModel):\n",
    "    artist_id = AutoField(column_name='ArtistId')\n",
    "    name = TextField(column_name='Name', null=True)\n",
    "\n",
    "    class Meta:\n",
    "        table_name = 'Artist'\n",
    "\n",
    "\n",
    "def print_last_five_artists():\n",
    "    \"\"\" Печатаем последние 5 записей в таблице исполнителей\"\"\"\n",
    "    print('########################################################')\n",
    "    cur_query = Artist.select().limit(5).order_by(Artist.artist_id.desc())\n",
    "    for item in cur_query.dicts().execute():\n",
    "        print('artist: ', item)\n",
    "\n",
    "\n",
    "# Создаем курсор - это специальный объект который делает запросы\n",
    "# и получает их результаты\n",
    "cursor = conn.cursor()\n",
    "\n"
   ]
  },
  {
   "cell_type": "code",
   "execution_count": 42,
   "metadata": {},
   "outputs": [
    {
     "name": "stdout",
     "output_type": "stream",
     "text": [
      "[('A Cor Do Som',), ('AC/DC',), ('Aaron Copland & London Symphony Orchestra',)]\n"
     ]
    }
   ],
   "source": [
    "################ 2, ИСПОЛЬЗУЕМ КУРСОР  ###################\n",
    "\n",
    "# Делаем SELECT запрос к базе данных, используя обычный SQL-синтаксис\n",
    "cursor.execute(\"SELECT Name FROM Artist ORDER BY Name LIMIT 3\")\n",
    "\n",
    "# Получаем результат сделанного запроса\n",
    "results = cursor.fetchall()\n",
    "print(results)   # [('A Cor Do Som',), ('AC/DC',), ('Aaron Copland & London Symphony Orchestra',)]\n",
    "\n",
    "\n"
   ]
  },
  {
   "cell_type": "code",
   "execution_count": 43,
   "metadata": {},
   "outputs": [
    {
     "name": "stdout",
     "output_type": "stream",
     "text": [
      "artist:  1 AC/DC\n",
      "SELECT \"t1\".\"ArtistId\", \"t1\".\"Name\" FROM \"Artist\" AS \"t1\"\n",
      "SELECT \"t1\".\"ArtistId\", \"t1\".\"Name\" FROM \"Artist\" AS \"t1\" WHERE (\"t1\".\"ArtistId\" < 10) ORDER BY \"t1\".\"ArtistId\" DESC LIMIT 5\n",
      "<peewee.ModelDictCursorWrapper object at 0x7f8751f20e80>\n",
      "artist:  {'artist_id': 9, 'name': 'BackBeat'}\n",
      "artist:  {'artist_id': 8, 'name': 'Audioslave'}\n",
      "artist:  {'artist_id': 7, 'name': 'Apocalyptica'}\n",
      "artist:  {'artist_id': 6, 'name': 'Antônio Carlos Jobim'}\n",
      "artist:  {'artist_id': 5, 'name': 'Alice In Chains'}\n"
     ]
    }
   ],
   "source": [
    "######################## 5, ЧИТАЕМ ИЗ БАЗЫ ########################\n",
    "\n",
    "# 5.1 Получение одиночной записи с методом модели Model.get()\n",
    "artist = Artist.get(Artist.artist_id == 1)\n",
    "# теперь у нас есть объект artist,\n",
    "# с полями соответствующим данным исполнителя в конкретной строке\n",
    "# а также доступными методами модели исполнителя\n",
    "# этот объект можно использовать не только для чтения данных,\n",
    "# но и для их обновления и удаления данной записи, в чем убедимся позже\n",
    "print('artist: ', artist.artist_id, artist.name)  # artist:  1 AC/DC\n",
    "\n",
    "# 5.2 Получение набора записей похоже на стандартный select запрос к базе,\n",
    "# но осуществляемый через нашу модель Model.select()\n",
    "# Обратите внимание, что к какой таблице обращаться и какие поля у нее есть\n",
    "# уже определено в нашей модели и нам не надо это указывать в нашем запросе\n",
    "\n",
    "# Формируем запрос к базе с помощью нашей ORM прослойки\n",
    "# и смотрим как этот запрос будет выглядеть\n",
    "query = Artist.select()\n",
    "print(query)\n",
    "# SELECT \"t1\".\"ArtistId\", \"t1\".\"Name\" FROM \"Artist\" AS \"t1\"\n",
    "\n",
    "# Полезно добавить дополнительные параметры,\n",
    "# уточняющие запрос, они очень похожи на SQL инструкции:\n",
    "query = Artist.select().where(Artist.artist_id < 10).\\\n",
    "                        limit(5).order_by(Artist.artist_id.desc())\n",
    "print(query)\n",
    "# SELECT \"t1\".\"ArtistId\", \"t1\".\"Name\" FROM \"Artist\" AS \"t1\"\n",
    "#   WHERE (\"t1\".\"ArtistId\" < 10) ORDER BY \"t1\".\"ArtistId\" DESC LIMIT 5\n",
    "\n",
    "# Теперь, определившись с запросом к базе, мы можем получить от нее ответ,\n",
    "# для удобства делаем это сразу в виде словаря\n",
    "artists_selected = query.dicts().execute()\n",
    "print(artists_selected)\n",
    "# <peewee.ModelDictCursorWrapper object at 0x7f6fdd9bdda0>\n",
    "# это итератор по полученным из базы записям, который можно обходить в цикле\n",
    "for artist in artists_selected:\n",
    "    print('artist: ', artist)   # artist:  {'artist_id': 9, 'name': 'BackBeat'}\n",
    "    # То есть, каждая итерация соответствует одной строке таблицы\n",
    "    # и соответственно одному исполнителю\n",
    "\n",
    "\n"
   ]
  },
  {
   "cell_type": "code",
   "execution_count": 44,
   "metadata": {},
   "outputs": [
    {
     "name": "stdout",
     "output_type": "stream",
     "text": [
      "########################################################\n",
      "artist:  {'artist_id': 279, 'name': '4-yhnbgt'}\n",
      "artist:  {'artist_id': 278, 'name': '3-qaswed'}\n",
      "artist:  {'artist_id': 277, 'name': '2-asdfg'}\n",
      "artist:  {'artist_id': 276, 'name': '1-Qwerty'}\n",
      "artist:  {'artist_id': 275, 'name': 'Philip Glass Ensemble'}\n"
     ]
    }
   ],
   "source": [
    "################  6, СОЗДАЕМ НОВУЮ ЗАПИСЬ В БАЗЕ  #######################\n",
    "\n",
    "# 6.1 Первый способ: Model.create() - передаем все требуемые параметры сразу\n",
    "Artist.create(name='1-Qwerty')\n",
    "\n",
    "# 6.2 Второй способ: Мы создаем объект класса нашей модели,\n",
    "# работаем в коде в содержимым его полей,\n",
    "# а в конце вызываем его метод .save()\n",
    "artist = Artist(name='2-asdfg')\n",
    "artist.save()  # save() returns the number of rows modified.\n",
    "# обратите внимание, что здесь метод вызываем у объекта класса модели,\n",
    "# а не у самой модели, как в первом способе\n",
    "\n",
    "# 6.3 Третий способ - массовое добавление из коллекции\n",
    "# методом модели Model.insert_many()\n",
    "# Обратите внимание, что первые два метода не требуют добавления .execute(),\n",
    "# а этот требует!\n",
    "artists_data = [{'name': '3-qaswed'}, {'name': '4-yhnbgt'}]\n",
    "Artist.insert_many(artists_data).execute()\n",
    "\n",
    "# Визуализируем последние 5 записей в таблице исполнителей,\n",
    "# чтобы убедится. что к последней добавлены 4 новые\n",
    "print_last_five_artists()\n",
    "# artist:  {'artist_id': 279, 'name': '4-yhnbgt'}\n",
    "# artist:  {'artist_id': 278, 'name': '3-qaswed'}\n",
    "# artist:  {'artist_id': 277, 'name': '2-asdfg'}\n",
    "# artist:  {'artist_id': 276, 'name': '1-Qwerty'}\n",
    "# artist:  {'artist_id': 275, 'name': 'Philip Glass Ensemble'}\n",
    "\n",
    "\n"
   ]
  },
  {
   "cell_type": "code",
   "execution_count": 45,
   "metadata": {},
   "outputs": [
    {
     "name": "stdout",
     "output_type": "stream",
     "text": [
      "########################################################\n",
      "artist:  {'artist_id': 279, 'name': '4-yhnbgt'}\n",
      "artist:  {'artist_id': 278, 'name': '3-qaswed'}\n",
      "artist:  {'artist_id': 277, 'name': '2-asdfg+++++'}\n",
      "artist:  {'artist_id': 276, 'name': '1-Qwerty'}\n",
      "artist:  {'artist_id': 275, 'name': 'Philip Glass Ensemble'}\n",
      "########################################################\n",
      "artist:  {'artist_id': 279, 'name': '4-yhnbgt!!!'}\n",
      "artist:  {'artist_id': 278, 'name': '3-qaswed!!!'}\n",
      "artist:  {'artist_id': 277, 'name': '2-asdfg+++++!!!'}\n",
      "artist:  {'artist_id': 276, 'name': '1-Qwerty!!!'}\n",
      "artist:  {'artist_id': 275, 'name': 'Philip Glass Ensemble'}\n"
     ]
    }
   ],
   "source": [
    "############### 7, ОБНОВЛЯЕМ ДАННЫЕ СУЩЕСТВУЮЩЕЙ ЗАПИСИ ##############\n",
    "\n",
    "# 7.1 Выше, способом 6.2 мы создавали новую запись,\n",
    "# но так можно не только создавать новую запись, но и обновлять существующую.\n",
    "# Для этого нам надо для нашего объекта указать\n",
    "# уже существующий в таблице первичный ключ.\n",
    "\n",
    "artist = Artist(name='2-asdfg+++++')\n",
    "artist.artist_id = 277  # Тот самый первичный ключ\n",
    "# который связывает наш объект с конкретной строке таблицы базы данных\n",
    "artist.save()\n",
    "\n",
    "print_last_five_artists()\n",
    "# artist:  {'artist_id': 279, 'name': '4-yhnbgt'}\n",
    "# artist:  {'artist_id': 278, 'name': '3-qaswed'}\n",
    "# artist:  {'artist_id': 277, 'name': '2-asdfg+++++'}\n",
    "# artist:  {'artist_id': 276, 'name': '1-Qwerty'}\n",
    "# artist:  {'artist_id': 275, 'name': 'Philip Glass Ensemble'}\n",
    "\n",
    "# 7.2 Для обновления многих записей сразу,\n",
    "# можно использовать метод модели Model.update(),\n",
    "# в котором указываем что именно у нас меняется,\n",
    "# а метод .where() определяет по каким критериям отбираются записи\n",
    "query = Artist.update(name=Artist.name + '!!!').where(Artist.artist_id > 275)\n",
    "query.execute()\n",
    "\n",
    "print_last_five_artists()\n",
    "# artist:  {'artist_id': 279, 'name': '4-yhnbgt!!!'}\n",
    "# artist:  {'artist_id': 278, 'name': '3-qaswed!!!'}\n",
    "# artist:  {'artist_id': 277, 'name': '2-asdfg+++!!!'}\n",
    "# artist:  {'artist_id': 276, 'name': '1-Qwerty!!!'}\n",
    "# artist:  {'artist_id': 275, 'name': 'Philip Glass Ensemble'}\n",
    "\n",
    "\n"
   ]
  },
  {
   "cell_type": "code",
   "execution_count": 52,
   "metadata": {},
   "outputs": [
    {
     "name": "stdout",
     "output_type": "stream",
     "text": [
      "########################################################\n",
      "artist:  {'artist_id': 275, 'name': 'Philip Glass Ensemble'}\n",
      "artist:  {'artist_id': 274, 'name': 'Nash Ensemble'}\n",
      "artist:  {'artist_id': 273, 'name': 'C. Monteverdi, Nigel Rogers - Chiaroscuro; London Baroque; London Cornett & Sackbu'}\n",
      "artist:  {'artist_id': 272, 'name': 'Emerson String Quartet'}\n",
      "artist:  {'artist_id': 271, 'name': 'Mela Tenenbaum, Pro Musica Prague & Richard Kapp'}\n",
      "########################################################\n",
      "artist:  {'artist_id': 275, 'name': 'Philip Glass Ensemble'}\n",
      "artist:  {'artist_id': 274, 'name': 'Nash Ensemble'}\n",
      "artist:  {'artist_id': 273, 'name': 'C. Monteverdi, Nigel Rogers - Chiaroscuro; London Baroque; London Cornett & Sackbu'}\n",
      "artist:  {'artist_id': 272, 'name': 'Emerson String Quartet'}\n",
      "artist:  {'artist_id': 271, 'name': 'Mela Tenenbaum, Pro Musica Prague & Richard Kapp'}\n",
      "Connection closed\n"
     ]
    }
   ],
   "source": [
    "###################### 8. УДАЛЯЕМ ЗАПИСЬ #######################\n",
    "\n",
    "# 8.1 Первый способ удаления записи -\n",
    "# это получение объекта записи методом Model.get() как в 5.1 выше\n",
    "artist = Artist.get(Artist.artist_id == 257)\n",
    "# и вызова метода удаления этой записи .delete_instance():\n",
    "artist.delete_instance()\n",
    "\n",
    "print_last_five_artists()\n",
    "# artist:  {'artist_id': 278, 'name': '3-qaswed!!!'}\n",
    "# artist:  {'artist_id': 277, 'name': '2-asdfg+++!!!'}\n",
    "# artist:  {'artist_id': 276, 'name': '1-Qwerty!!!'}\n",
    "# artist:  {'artist_id': 275, 'name': 'Philip Glass Ensemble'}\n",
    "# artist:  {'artist_id': 274, 'name': 'Nash Ensemble'}\n",
    "\n",
    "# 8.2 Для удаления набора строк можно использовать Model.delete() метод\n",
    "query = Artist.delete().where(Artist.artist_id > 275)\n",
    "query.execute()\n",
    "\n",
    "print_last_five_artists()\n",
    "# artist:  {'artist_id': 275, 'name': 'Philip Glass Ensemble'}\n",
    "# artist:  {'artist_id': 274, 'name': 'Nash Ensemble'}\n",
    "# artist:  {'artist_id': 273, 'name': 'C. Monteverdi, Nigel Rogers - Chiaroscuro; London Baroque; London Cornett & Sackbu'}\n",
    "# artist:  {'artist_id': 272, 'name': 'Emerson String Quartet'}\n",
    "# artist:  {'artist_id': 271, 'name': 'Mela Tenenbaum, Pro Musica Prague & Richard Kapp'}\n",
    "\n",
    "\n",
    "# Не забываем закрыть соединение с базой данных в конце работы\n",
    "if conn.close():\n",
    "    print('Connection closed')"
   ]
  },
  {
   "cell_type": "code",
   "execution_count": null,
   "metadata": {
    "collapsed": true
   },
   "outputs": [],
   "source": [
    "#  python -m pwiz -e sqlite ../Chinook_Sqlite.sqlite  >> models.py"
   ]
  }
 ],
 "metadata": {
  "kernelspec": {
   "display_name": "Python 3",
   "language": "python",
   "name": "python3"
  },
  "language_info": {
   "codemirror_mode": {
    "name": "ipython",
    "version": 3
   },
   "file_extension": ".py",
   "mimetype": "text/x-python",
   "name": "python",
   "nbconvert_exporter": "python",
   "pygments_lexer": "ipython3",
   "version": "3.6.1"
  }
 },
 "nbformat": 4,
 "nbformat_minor": 4
}
